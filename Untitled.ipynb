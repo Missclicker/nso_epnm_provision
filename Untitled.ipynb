{
 "cells": [
  {
   "cell_type": "code",
   "execution_count": 123,
   "id": "a2e05cc8-fa1b-4277-8135-43e2d4aae7f5",
   "metadata": {},
   "outputs": [],
   "source": [
    "import pandas as pd"
   ]
  },
  {
   "cell_type": "code",
   "execution_count": 128,
   "id": "65120359-75e0-4aeb-ad58-d7ffcfbd1f5d",
   "metadata": {},
   "outputs": [],
   "source": [
    "data = pd.read_excel(\n",
    "    'crossing_test.xlsx',\n",
    "    index_col=[8,21]\n",
    ")"
   ]
  },
  {
   "cell_type": "code",
   "execution_count": 135,
   "id": "8983940f-794a-4e6e-8e16-d6a0440c6fb4",
   "metadata": {},
   "outputs": [
    {
     "data": {
      "text/plain": [
       "Index(['Unnamed: 0', 'MBH', 'MBH_ID', 'PORT', 'DESCRIPTION', 'VLAN', 'MAC',\n",
       "       'VRF', 'Site_ID', 'OLD_IP', 'OLD_GW', 'OLD_MASK', 'OLD_VLAN', 'Service',\n",
       "       'NCS', 'NEW_PORT', 'VLAN_POSTFIX', 'ip_address', 'gw', 'mask', 'bs',\n",
       "       'Type', 'Примечание', 'Кроссировка', 'Кроссировка_New (при изменении)',\n",
       "       'Тип', 'Кольцо SEP', 'Новый порт на стыке РРС-Xhaul', 'готовность РРЛ',\n",
       "       'примечание по готовности', '10g sfp rtn950', 'Выполнение кроссировки',\n",
       "       'Порт ррс для соединения с xhaul', 'Тип порта', 'Скорость, Gb/s',\n",
       "       'Тип соединения', 'Готовность кроссировки', 'Проверка наличия в плане'],\n",
       "      dtype='object')"
      ]
     },
     "execution_count": 135,
     "metadata": {},
     "output_type": "execute_result"
    }
   ],
   "source": [
    "data.loc[\"BS-684\"].columns"
   ]
  },
  {
   "cell_type": "code",
   "execution_count": 140,
   "id": "aa2d73c2-9b62-4bae-8ef9-6db2cbd64c37",
   "metadata": {},
   "outputs": [
    {
     "name": "stdout",
     "output_type": "stream",
     "text": [
      "2511\n",
      "ip_address     172.19.113.126\n",
      "gw             172.19.113.125\n",
      "mask          255.255.255.252\n",
      "Name: 2511, dtype: object\n"
     ]
    }
   ],
   "source": [
    "for i in data.loc[\"BS-684\"][['ip_address', 'gw', 'mask']].iterrows():\n",
    "    for a in i:\n",
    "        print(a)\n",
    "    break"
   ]
  },
  {
   "cell_type": "code",
   "execution_count": 197,
   "id": "33e36286-1433-4289-b025-4de224ccb9b6",
   "metadata": {},
   "outputs": [],
   "source": [
    "new_data = {'vlans': data.loc[\"BS-684\"].index.to_list()}\n",
    "new_data.update( data.loc[\"BS-684\"][['NEW_PORT', 'DESCRIPTION','VRF', 'ip_address', 'gw', 'mask']].to_dict(orient='list'))"
   ]
  },
  {
   "cell_type": "code",
   "execution_count": 198,
   "id": "47cd8d83-2c6a-4825-91b6-36d1109a3143",
   "metadata": {},
   "outputs": [
    {
     "data": {
      "text/plain": [
       "{'vlans': [2511, 2611, 2711],\n",
       " 'NEW_PORT': ['Gi0/0/0/9', 'Gi0/0/0/9', 'Gi0/0/0/9'],\n",
       " 'DESCRIPTION': ['  -- To 684 2G/3G_Huawei --',\n",
       "  '  -- To 684 2G/3G_Huawei --',\n",
       "  '  -- To 684 2G/3G_Huawei --'],\n",
       " 'VRF': ['RAN-OAM', 'IUB', 'HUAWEI_Abis'],\n",
       " 'ip_address': ['172.19.113.126', '172.19.121.118', '172.19.161.2'],\n",
       " 'gw': ['172.19.113.125', '172.19.121.117', '172.19.161.1'],\n",
       " 'mask': ['255.255.255.252', '255.255.255.252', '255.255.255.252']}"
      ]
     },
     "execution_count": 198,
     "metadata": {},
     "output_type": "execute_result"
    }
   ],
   "source": [
    "new_data"
   ]
  },
  {
   "cell_type": "code",
   "execution_count": 168,
   "id": "2daaade8-0172-48c2-a86c-30653ca1dfec",
   "metadata": {},
   "outputs": [],
   "source": [
    "vlans = list(data.loc[\"BS-684\"][['NEW_PORT', 'ip_address', 'gw', 'mask']].to_dict(orient='index').keys())"
   ]
  },
  {
   "cell_type": "code",
   "execution_count": 170,
   "id": "381fc4d0-ff96-43bd-ba4d-277a1df1b6ef",
   "metadata": {},
   "outputs": [],
   "source": [
    "ifname = new_data[vlans[0]]['NEW_PORT']"
   ]
  },
  {
   "cell_type": "code",
   "execution_count": 171,
   "id": "dfe5c978-a6a7-400a-ae66-53dc9c449d37",
   "metadata": {},
   "outputs": [
    {
     "data": {
      "text/plain": [
       "'Gi0/0/0/9'"
      ]
     },
     "execution_count": 171,
     "metadata": {},
     "output_type": "execute_result"
    }
   ],
   "source": [
    "ifname"
   ]
  },
  {
   "cell_type": "code",
   "execution_count": 111,
   "id": "8b82ac1a-17ca-4fb0-a633-f9d842c51330",
   "metadata": {},
   "outputs": [],
   "source": [
    "import requests\n",
    "import re\n",
    "from datetime import datetime, timedelta\n",
    "import urllib3\n",
    "from base_data import *\n",
    "urllib3.disable_warnings()"
   ]
  },
  {
   "cell_type": "code",
   "execution_count": 2,
   "id": "862824f3-e17e-4697-96ae-7fe3365a378e",
   "metadata": {},
   "outputs": [],
   "source": [
    "def config_url(dev_name):\n",
    "    return f'/webacs/api/v4/data/ConfigVersions.json?.full=true&deviceName=%22{dev_name}%22&.sort=-createdAt&.maxResults=1'\n",
    "\n",
    "def config_download(file_id):\n",
    "    return f'/webacs/api/v4/op/configArchiveService/extractSanitizedFile.json?fileId={file_id}'"
   ]
  },
  {
   "cell_type": "code",
   "execution_count": 110,
   "id": "cf147820-7d8e-4507-8e07-44626bb89b7e",
   "metadata": {},
   "outputs": [],
   "source": [
    "template_url = '/webacs/api/v4/data/CliTemplate.json?.full=true&path=contains(\"User Defined\")'\n",
    "devs = '/webacs/api/v4/data/Devices.json?.full=true'"
   ]
  },
  {
   "cell_type": "code",
   "execution_count": 120,
   "id": "c878a48e-46b1-4150-978c-e618039079bf",
   "metadata": {},
   "outputs": [],
   "source": [
    "data = {\n",
    "    \"ConfigArchiveJobDto\": {\n",
    "        \"deviceIds\" : pe1_id\n",
    "    }   \n",
    "}"
   ]
  },
  {
   "cell_type": "code",
   "execution_count": 121,
   "id": "e141a179-ed5f-4a6b-bef8-b0424bdb255d",
   "metadata": {},
   "outputs": [],
   "source": [
    "\n",
    "r = requests.post(base_url + '/webacs/api/v4/op/configArchive/ViewService/scheduleArchive.json', json=data, verify=False)"
   ]
  },
  {
   "cell_type": "code",
   "execution_count": 122,
   "id": "04adddad-6237-4ec8-a71c-6d4a6d204e6a",
   "metadata": {},
   "outputs": [
    {
     "data": {
      "text/plain": [
       "{'errorDocument': {'httpResponseCode': 500,\n",
       "  'httpMethod': 'POST',\n",
       "  'uriPath': 'op/configArchive/ViewService/scheduleArchive',\n",
       "  'queryParams': '{}',\n",
       "  'domain': 'ROOT-DOMAIN'}}"
      ]
     },
     "execution_count": 122,
     "metadata": {},
     "output_type": "execute_result"
    }
   ],
   "source": [
    "r.json()"
   ]
  },
  {
   "cell_type": "code",
   "execution_count": 4,
   "id": "e6d21ca0-93bc-40af-947f-cc2c10b568c4",
   "metadata": {
    "tags": []
   },
   "outputs": [],
   "source": [
    "r = requests.get(base_url + template_url, verify=False)"
   ]
  },
  {
   "cell_type": "code",
   "execution_count": 5,
   "id": "c241f5b9-2370-4bf2-8957-322e5dff171e",
   "metadata": {},
   "outputs": [
    {
     "data": {
      "text/plain": [
       "{'@displayName': '117985869',\n",
       " '@id': 117985869,\n",
       " 'author': 'root',\n",
       " 'configContainerId': 117987871,\n",
       " 'content': 'interface ${ifname}.${vlan} l2transport\\n encapsulation dot1q ${vlan}\\n mtu 1518\\n rewrite ingress tag pop 1 symmetric\\nexit\\nl2vpn\\n xconnect group ${group_name}\\n  p2p ${pw_name}\\n   interface  ${ifname}.${vlan}\\n   neighbor ipv4 ${peer_ip} pw-id ${pw_id}',\n",
       " 'createdOn': '2001-03-04T21:02:32.844Z',\n",
       " 'deployCount': 18,\n",
       " 'deployJobCount': 9,\n",
       " 'deviceType': 'Routers',\n",
       " 'lastDeployTime': '2001-03-04T22:41:58.801Z',\n",
       " 'name': 'l2vpn_xconnect_ldp',\n",
       " 'path': 'My Templates/CLI Templates (User Defined)',\n",
       " 'templateId': 117985869,\n",
       " 'variables': {'variable': [{'displayLabel': 'ifname',\n",
       "    'name': 'ifname',\n",
       "    'required': 'true',\n",
       "    'type': 'String'},\n",
       "   {'displayLabel': 'vlan',\n",
       "    'name': 'vlan',\n",
       "    'required': 'true',\n",
       "    'type': 'Integer'},\n",
       "   {'displayLabel': 'group_name',\n",
       "    'name': 'group_name',\n",
       "    'required': 'true',\n",
       "    'type': 'String'},\n",
       "   {'displayLabel': 'pw_name',\n",
       "    'name': 'pw_name',\n",
       "    'required': 'true',\n",
       "    'type': 'String'},\n",
       "   {'displayLabel': 'peer_ip',\n",
       "    'name': 'peer_ip',\n",
       "    'required': 'true',\n",
       "    'type': 'IPv4 Address'},\n",
       "   {'displayLabel': 'pw_id',\n",
       "    'name': 'pw_id',\n",
       "    'required': 'true',\n",
       "    'type': 'Integer'}]}}"
      ]
     },
     "execution_count": 5,
     "metadata": {},
     "output_type": "execute_result"
    }
   ],
   "source": [
    "r.json()['queryResponse']['entity'][0]['cliTemplateDTO']"
   ]
  },
  {
   "cell_type": "code",
   "execution_count": 6,
   "id": "34c1407d-8026-4bbe-8c26-1ea9faec2523",
   "metadata": {},
   "outputs": [],
   "source": [
    "template_name = r.json()['queryResponse']['entity'][0]['cliTemplateDTO']['name']\n",
    "template_name = \"SUBs_REMOVAL\""
   ]
  },
  {
   "cell_type": "code",
   "execution_count": 7,
   "id": "aff86d68-bd62-4c92-9af5-54951da36694",
   "metadata": {},
   "outputs": [],
   "source": [
    "r = requests.get(base_url + devs, verify=False)"
   ]
  },
  {
   "cell_type": "code",
   "execution_count": 8,
   "id": "46f7846a-3e11-4e34-8052-7065be5006fd",
   "metadata": {},
   "outputs": [
    {
     "name": "stdout",
     "output_type": "stream",
     "text": [
      "0 SVO_TEST\n",
      "1 C3\n",
      "2 C5\n",
      "3 C1-1\n",
      "4 C2.MAGTI\n"
     ]
    }
   ],
   "source": [
    "for i in range(len(r.json()['queryResponse']['entity'])):\n",
    "    print(i, r.json()['queryResponse']['entity'][i]['devicesDTO']['deviceName'])"
   ]
  },
  {
   "cell_type": "code",
   "execution_count": 9,
   "id": "d5c5e3a2-cc08-4d31-9562-3e53fc05325e",
   "metadata": {},
   "outputs": [],
   "source": [
    "pe1 = r.json()['queryResponse']['entity'][3]\n",
    "pe2 = r.json()['queryResponse']['entity'][4]"
   ]
  },
  {
   "cell_type": "code",
   "execution_count": 11,
   "id": "6c603d3c-6e00-46be-aeaa-f5aa9368364c",
   "metadata": {},
   "outputs": [],
   "source": [
    "pe1_id = 118091976"
   ]
  },
  {
   "cell_type": "code",
   "execution_count": 13,
   "id": "00a0e389-8a90-4f63-b659-51c4a24bacce",
   "metadata": {},
   "outputs": [],
   "source": [
    "pe1_id = pe1['devicesDTO']['@id']\n",
    "pe2_id = pe2['devicesDTO']['@id']"
   ]
  },
  {
   "cell_type": "code",
   "execution_count": 14,
   "id": "7b4dfed2-1289-4319-b9c7-c638324498f1",
   "metadata": {},
   "outputs": [],
   "source": [
    "def get_last_config(dev):\n",
    "    r = requests.get(base_url + config_url(dev['devicesDTO']['deviceName']), verify=False)\n",
    "    f_id = r.json()['queryResponse']['entity'][0]['configVersionsDTO']['fileInfos']['fileInfo'][0]['fileId']\n",
    "    data = requests.get(base_url + config_download(f_id), verify=False)\n",
    "    return data.json()['mgmtResponse']['extractFileResult'][0]['fileData']"
   ]
  },
  {
   "cell_type": "code",
   "execution_count": 15,
   "id": "95b84be0-9b07-4526-8c99-4c659446e8a9",
   "metadata": {},
   "outputs": [],
   "source": [
    "r = requests.get(base_url + config_url(pe1), verify=False)"
   ]
  },
  {
   "cell_type": "code",
   "execution_count": 16,
   "id": "0233ddd9-b54a-47e4-9641-3bb440fdd180",
   "metadata": {},
   "outputs": [
    {
     "name": "stdout",
     "output_type": "stream",
     "text": [
      "{'errorDocument': {'httpResponseCode': 400, 'httpMethod': 'GET', 'message': \"Bad or missing filter property value [&quot;{'@dtoType': 'devicesDTO', '@type': 'Devices', '@url': 'https://172.25.4.33/webacs/api/v4/data/Devices/118091976', 'devicesDTO': {'@displayName': '118091976', '@id': 118091976, 'adminStatus': 'MANAGED', 'collectionDetail': '&lt;status&gt;&lt;general code=&quot;SUCCESS&quot;/&gt;&lt;/status&gt;', 'collectionStatus': 'COMPLETED', 'collectionTime': '2001-03-05T22:12:25.550Z', 'creationTime': '2001-03-03T21:26:13.120Z', 'deviceId': 118095980, 'deviceName': 'C1-1', 'deviceType': 'Cisco NCS 540-24Z8Q2C-M Router', 'ipAddress': '172.30.100.33', 'managementStatus': 'MANAGED_AND_SYNCHRONIZED', 'manufacturerPartNrs': {'manufacturerPartNr': [{'name': 'Rack 0', 'partNumber': 'N540-24Z8Q2C-M', 'serialNumber': 'FOC2326NCG6'}]}, 'productFamily': 'Routers', 'reachability': 'REACHABLE', 'softwareType': 'IOS XR', 'softwareVersion': '7.3.1'}}&quot;] for property [deviceName] on entity [ConfigVersionsV4].-PRS-113\", 'id': 'presentation.PRS-113', 'uriPath': 'data/ConfigVersions', 'queryParams': \"{.full=[true], deviceName=[&quot;{'@dtoType': 'devicesDTO', '@type': 'Devices', '@url': 'https://172.25.4.33/webacs/api/v4/data/Devices/118091976', 'devicesDTO': {'@displayName': '118091976', '@id': 118091976, 'adminStatus': 'MANAGED', 'collectionDetail': '&lt;status&gt;&lt;general code=&quot;SUCCESS&quot;/&gt;&lt;/status&gt;', 'collectionStatus': 'COMPLETED', 'collectionTime': '2001-03-05T22:12:25.550Z', 'creationTime': '2001-03-03T21:26:13.120Z', 'deviceId': 118095980, 'deviceName': 'C1-1', 'deviceType': 'Cisco NCS 540-24Z8Q2C-M Router', 'ipAddress': '172.30.100.33', 'managementStatus': 'MANAGED_AND_SYNCHRONIZED', 'manufacturerPartNrs': {'manufacturerPartNr': [{'name': 'Rack 0', 'partNumber': 'N540-24Z8Q2C-M', 'serialNumber': 'FOC2326NCG6'}]}, 'productFamily': 'Routers', 'reachability': 'REACHABLE', 'softwareType': 'IOS XR', 'softwareVersion': '7.3.1'}}&quot;], .sort=[-createdAt], .maxResults=[1]}\", 'domain': 'ROOT-DOMAIN'}}\n"
     ]
    }
   ],
   "source": [
    "print(r.json())"
   ]
  },
  {
   "cell_type": "code",
   "execution_count": 17,
   "id": "4f63e185-4117-4db6-9efe-281247318c51",
   "metadata": {},
   "outputs": [
    {
     "ename": "NameError",
     "evalue": "name 'dev' is not defined",
     "output_type": "error",
     "traceback": [
      "\u001b[1;31m---------------------------------------------------------------------------\u001b[0m",
      "\u001b[1;31mNameError\u001b[0m                                 Traceback (most recent call last)",
      "\u001b[1;32m~\\AppData\\Local\\Temp/ipykernel_15380/3904479324.py\u001b[0m in \u001b[0;36m<module>\u001b[1;34m\u001b[0m\n\u001b[1;32m----> 1\u001b[1;33m \u001b[0mconfig_url\u001b[0m\u001b[1;33m(\u001b[0m\u001b[0mdev\u001b[0m\u001b[1;33m[\u001b[0m\u001b[1;34m'devicesDTO'\u001b[0m\u001b[1;33m]\u001b[0m\u001b[1;33m[\u001b[0m\u001b[1;34m'deviceName'\u001b[0m\u001b[1;33m]\u001b[0m\u001b[1;33m)\u001b[0m\u001b[1;33m\u001b[0m\u001b[1;33m\u001b[0m\u001b[0m\n\u001b[0m",
      "\u001b[1;31mNameError\u001b[0m: name 'dev' is not defined"
     ]
    }
   ],
   "source": [
    "config_url(dev['devicesDTO']['deviceName'])"
   ]
  },
  {
   "cell_type": "code",
   "execution_count": 389,
   "id": "c72dc6b0-c33a-48a2-b1fc-4ea353a18527",
   "metadata": {
    "collapsed": true,
    "jupyter": {
     "outputs_hidden": true
    },
    "tags": []
   },
   "outputs": [
    {
     "data": {
      "text/plain": [
       "'!! IOS XR Configuration 7.4.2\\n!! Last configuration change at Wed Jun 29 14:04:01 2022 by sa\\n!\\nservice unsupported-transceiver\\nhostname C2\\nsnmp-server traps alarm\\nclock timezone GMT-4 Etc/GMT-4\\nlogging trap informational\\nlogging events display-location\\nlogging events level informational\\nlogging console debugging\\nlogging buffered 3000000\\nlogging 172.25.4.33 vrf MGMT severity info\\nlogging 172.25.4.33 vrf default severity debugging\\nlogging source-interface Loopback0\\nlogging hostnameprefix 172.25.4.33\\nlogging events link-status software-interfaces\\ndomain vrf MGMT name greennet.ge\\ndomain vrf MGMT name-server 8.8.8.8\\ndomain vrf MGMT lookup source-interface MgmtEth0/RP0/CPU0/0\\ndomain name MAGTI\\ndomain lookup disable\\ntacacs source-interface Loopback0 vrf default\\ntacacs-server host 10.7.253.111 port 49\\n key 7 ******** \\n timeout 1\\n!\\ntacacs-server host 10.7.253.112 port 49\\n key 7 ******** \\n timeout 1\\n!\\nusername sa\\n group root-lr\\n group cisco-support\\n secret 10 ******** \\n!\\nusername root\\n group root-lr\\n group cisco-support\\n secret 10 ******** \\n!\\nusername prime\\n group root-lr\\n group cisco-support\\n secret 5 ******** \\n!\\nusername epnm-mob\\n group root-lr\\n group cisco-support\\n secret 5 ******** \\n!\\naaa accounting exec default start-stop group tacacs+\\naaa accounting network default start-stop group tacacs+\\naaa group server tacacs+ TACGRP\\n server 10.7.253.111\\n server 10.7.253.112\\n!\\naaa authorization exec TACAUTHEN group TACGRP local\\naaa authentication login default local\\naaa authentication login TACLOGIN group TACGRP local\\ncdp\\nexplicit-path name KUT_CORE_1_PATH_1\\n index 10 next-address strict ipv4 unicast 192.168.11.1\\n index 100 next-address strict ipv4 unicast 10.101.0.1\\n!\\nexplicit-path name KUT_CORE_2_PATH_1\\n index 10 next-address strict ipv4 unicast 192.168.11.1\\n index 20 next-address strict ipv4 unicast 192.168.13.3\\n index 100 next-address strict ipv4 unicast 10.101.0.3\\n!\\nexplicit-path name NHOP-GORIJVARI-KHASHURI_1\\n index 5 next-address strict ipv4 unicast 10.7.16.45\\n index 10 next-address strict ipv4 unicast 10.7.16.37\\n index 20 next-address strict ipv4 unicast 10.7.16.253\\n index 30 next-address strict ipv4 unicast 10.7.16.122\\n index 40 next-address strict ipv4 unicast 10.7.16.205\\n index 100 next-address strict ipv4 unicast 10.7.4.166\\n!\\nexplicit-path name NNHOP-GORIJVARI-KHASHURI_1\\n index 5 next-address strict ipv4 unicast 10.7.16.45\\n index 10 next-address strict ipv4 unicast 10.7.16.37\\n index 20 next-address strict ipv4 unicast 10.7.16.253\\n index 30 next-address strict ipv4 unicast 10.7.16.122\\n index 40 next-address strict ipv4 unicast 10.7.16.202\\n index 50 next-address strict ipv4 unicast 10.7.16.110\\n index 60 next-address strict ipv4 unicast 10.7.16.1\\n index 100 next-address strict ipv4 unicast 10.7.4.236\\n!\\nvrf 2G\\n address-family ipv4 unicast\\n  import route-target\\n   2000:2001\\n  !\\n  export route-target\\n   2:1\\n  !\\n !\\n!\\nvrf 3G\\n address-family ipv4 unicast\\n  import route-target\\n   3000:3001\\n  !\\n  export route-target\\n   3:1\\n  !\\n !\\n!\\nvrf OM\\n address-family ipv4 unicast\\n  import route-target\\n   1000:1001\\n  !\\n  export route-target\\n   1:1\\n  !\\n !\\n!\\nvrf INET\\n address-family ipv4 unicast\\n  import route-target\\n   1:1\\n  !\\n  export route-policy COLOR-100\\n  export route-target\\n   1:1\\n  !\\n !\\n!\\nvrf LTEC\\n address-family ipv4 unicast\\n  import route-target\\n   4000:4001\\n   4100:8\\n  !\\n  export route-target\\n   40:40\\n   4000:4001\\n  !\\n !\\n!\\nvrf LTEU\\n address-family ipv4 unicast\\n  import route-target\\n   5000:5001\\n   5100:8\\n  !\\n  export route-target\\n   50:50\\n   5100:8\\n  !\\n !\\n!\\nvrf MGMT\\n!\\naddress-family ipv4 unicast\\n!\\nline default\\n exec-timeout 10 0\\n session-limit 10\\n session-timeout 100\\n transport input all\\n!\\nvty-pool default 0 99 line-template console\\nhttp client vrf MGMT\\nhttp client source-interface ipv4 MgmtEth0/RP0/CPU0/0\\nlacp system mac cafe.dead.beef\\nsnmp-server ifindex persist\\nsnmp-server host 172.25.4.33 traps ******** \\nsnmp-server host 172.25.4.33 traps version 2c ******** \\nsnmp-server community ******** RW \\nsnmp-server community ******** RW \\nsnmp-server community ******** RO IPv4 SNMP_ACL \\nsnmp-server community ******** SystemOwner IPv4 SNMP_ACL \\nsnmp-server traps rf\\nsnmp-server traps bfd\\nsnmp-server traps ethernet cfm\\nsnmp-server traps ntp\\nsnmp-server traps ethernet oam events\\nsnmp-server traps otn\\nsnmp-server traps copy-complete\\nsnmp-server traps snmp linkup\\nsnmp-server traps snmp linkdown\\nsnmp-server traps snmp coldstart\\nsnmp-server traps snmp warmstart\\nsnmp-server traps snmp authentication\\nsnmp-server traps flash removal\\nsnmp-server traps flash insertion\\nsnmp-server traps power\\nsnmp-server traps config\\nsnmp-server traps entity\\nsnmp-server traps selective-vrf-download role-change\\nsnmp-server traps syslog\\nsnmp-server traps system\\nsnmp-server traps diameter peerup\\nsnmp-server traps diameter peerdown\\nsnmp-server traps diameter protocolerror\\nsnmp-server traps diameter permanentfail\\nsnmp-server traps diameter transientfail\\nsnmp-server traps frequency synchronization\\nsnmp-server traps bridgemib\\nsnmp-server traps optical\\nsnmp-server traps addrpool low\\nsnmp-server traps addrpool high\\nsnmp-server traps cisco-entity-ext\\nsnmp-server traps entity-state operstatus\\nsnmp-server traps entity-state switchover\\nsnmp-server traps entity-redundancy all\\nsnmp-server traps entity-redundancy status\\nsnmp-server traps entity-redundancy switchover\\nsnmp-server trap-source MgmtEth0/RP0/CPU0/0\\nmonitor-session MON ethernet\\n destination pseudowire\\n!\\nfpd auto-upgrade enable\\nftp client vrf MGMT password encrypted 06150E\\nftp client vrf MGMT username sa\\nftp client source-interface MgmtEth0/RP0/CPU0/0\\nntp\\n server 10.7.4.1\\n source Loopback0\\n!\\nbfd\\n multipath include location 0/0/CPU0\\n!\\nalias exec c conf t\\nalias exec sl sh l2vpn xconnect deta\\nalias exec sm sh l2vpn forwarding bridge-domain mac-address location 0/0/cPU0\\nalias config b router bgp 65000\\nalias config bd l2vpn bridge group TEST bridge-domain TEST\\ntftp client vrf MGMT source-interface MgmtEth0/RP0/CPU0/0\\ntftp client source-interface MgmtEth0/RP0/CPU0/0\\nkey chain CORE-ISIS-KEY\\n key 1\\n  accept-lifetime 00:00:00 january 01 2021 infinite\\nkey-string password ******** \\n  send-lifetime 00:00:00 january 01 2021 infinite\\n  cryptographic-algorithm HMAC-MD5\\n !\\n!\\ncall-home\\n service active\\n contact smart-licensing\\n profile CiscoTAC-1\\n  active\\n  destination address http https://tools.cisco.com/its/service/oddce/services/DDCEService\\n  destination transport-method http\\n !\\n!\\nnetconf-yang agent\\n ssh\\n!\\nipv4 access-list SNMP_ACL\\n 10 permit ipv4 10.7.253.0 0.0.0.255 any\\n!\\nclass-map match-any VIDEO_MARK\\n match mpls experimental topmost 2 \\n end-class-map\\n! \\nclass-map match-any MOBILE_MARK\\n match mpls experimental topmost 5 \\n end-class-map\\n! \\nclass-map match-any CONTROL_MARK\\n match mpls experimental topmost 6 7 \\n match precedence 6 7 \\n end-class-map\\n! \\nclass-map match-any HIGH_DATA_MARK\\n match mpls experimental topmost 4 \\n end-class-map\\n! \\nclass-map match-any VIDEO_MARK_OUT\\n match qos-group 2 \\n end-class-map\\n! \\nclass-map match-any VIDEO_QUEUEING\\n match traffic-class 2 \\n end-class-map\\n! \\nclass-map match-any MOBILE_MARK_OUT\\n match qos-group 5 \\n end-class-map\\n! \\nclass-map match-any MOBILE_QUEUEING\\n match traffic-class 5 \\n end-class-map\\n! \\nclass-map match-any BEST_EFFORT_MARK\\n match mpls experimental topmost 0 \\n end-class-map\\n! \\nclass-map match-any CONTROL_MARK_OUT\\n match qos-group 6 \\n end-class-map\\n! \\nclass-map match-any CONTROL_QUEUEING\\n match traffic-class 6 \\n end-class-map\\n! \\nclass-map match-any MOBILE_DATA_MARK\\n match mpls experimental topmost 3 \\n end-class-map\\n! \\nclass-map match-any BUSINESS_DATA_MARK\\n match mpls experimental topmost 1 \\n end-class-map\\n! \\nclass-map match-any HIGH_DATA_MARK_OUT\\n match qos-group 4 \\n end-class-map\\n! \\nclass-map match-any HIGH_DATA_QUEUEING\\n match traffic-class 4 \\n end-class-map\\n! \\nclass-map match-any MOBILE_DATA_MARK_OUT\\n match qos-group 3 \\n end-class-map\\n! \\nclass-map match-any MOBILE_DATA_QUEUEING\\n match traffic-class 3 \\n end-class-map\\n! \\nclass-map match-any BUSINESS_DATA_MARK_OUT\\n match qos-group 1 \\n end-class-map\\n! \\nclass-map match-any BUSINESS_DATA_QUEUEING\\n match traffic-class 1 \\n end-class-map\\n! \\npolicy-map MARK_OUT\\n class BUSINESS_DATA_MARK_OUT\\n  set cos 1\\n ! \\n class VIDEO_MARK_OUT\\n  set cos 2\\n ! \\n class MOBILE_DATA_MARK_OUT\\n  set cos 3\\n ! \\n class HIGH_DATA_MARK_OUT\\n  set cos 4\\n ! \\n class MOBILE_MARK_OUT\\n  set cos 5\\n ! \\n class CONTROL_MARK_OUT\\n  set cos 6\\n ! \\n class class-default\\n  set cos 0\\n ! \\n end-policy-map\\n! \\npolicy-map CHILD_OUT\\n class BUSINESS_DATA_QUEUEING\\n  bandwidth remaining percent 10 \\n ! \\n class VIDEO_QUEUEING\\n  bandwidth remaining percent 5 \\n ! \\n class MOBILE_DATA_QUEUEING\\n  bandwidth remaining percent 50 \\n ! \\n class HIGH_DATA_QUEUEING\\n  bandwidth remaining percent 5 \\n ! \\n class MOBILE_QUEUEING\\n  priority level 2 \\n  shape average percent 20 \\n ! \\n class CONTROL_QUEUEING\\n  priority level 1 \\n  shape average percent 5 \\n ! \\n class class-default\\n  bandwidth remaining percent 5 \\n ! \\n end-policy-map\\n! \\npolicy-map MARK_L3_IN\\n class BEST_EFFORT_MARK\\n  set qos-group 0\\n  set traffic-class 0\\n ! \\n class BUSINESS_DATA_MARK\\n  set qos-group 1\\n  set traffic-class 1\\n ! \\n class VIDEO_MARK\\n  set qos-group 2\\n  set traffic-class 2\\n ! \\n class MOBILE_DATA_MARK\\n  set qos-group 3\\n  set traffic-class 3\\n ! \\n class HIGH_DATA_MARK\\n  set qos-group 4\\n  set traffic-class 4\\n ! \\n class MOBILE_MARK\\n  set qos-group 5\\n  set traffic-class 5\\n ! \\n class CONTROL_MARK\\n  set qos-group 6\\n  set traffic-class 6\\n ! \\n class class-default\\n ! \\n end-policy-map\\n! \\npolicy-map POLICE-3G-IN\\n class class-default\\n  police rate 3 gbps \\n  ! \\n ! \\n end-policy-map\\n! \\npolicy-map SHAPE-3G-OUT\\n class class-default\\n  shape average 3 gbps \\n ! \\n end-policy-map\\n! \\nflow exporter-map EXPORTER-MEP\\n version ipfix\\n !\\n dscp 10\\n transport udp 9996\\n source Loopback0\\n destination 2.0.0.2\\n!\\nflow monitor-map MONITOR-MEP\\n record ipv4\\n exporter EXPORTER-MEP\\n cache entries 10000\\n cache timeout active 30\\n cache timeout inactive 15\\n!\\nflow monitor-map IPFIX-EXPORT-MEP\\n record datalinksectiondump\\n exporter EXPORTER-MEP\\n cache immediate\\n cache entries 1000000\\n cache timeout rate-limit 1000000\\n!\\nsampler-map SAMPLER-MEP\\n random 1 out-of 1000\\n!\\nhw-module quad 0 location 0/0/CPU0\\n mode 10g\\n!\\nhw-module quad 1 location 0/0/CPU0\\n mode 10g\\n!\\ninterface Bundle-Ether1\\n description -= TO BTR1.IEV1 =-\\n mtu 9216\\n load-interval 30\\n!\\ninterface Bundle-Ether1.10\\n description -= TO BTR1.IEV1 ISIS CORE =-\\n ipv4 address 192.168.104.3 255.255.255.254\\n encapsulation dot1q 10\\n!\\ninterface Bundle-Ether4\\n description -= TO BTR2.IEV2 =-\\n mtu 9216\\n load-interval 30\\n!\\ninterface Bundle-Ether4.10\\n description -= TO BTR2.IEV2 ISIS CORE =-\\n ipv4 address 192.168.104.6 255.255.255.254\\n encapsulation dot1q 10\\n!\\ninterface Bundle-Ether4.99\\n description FOR TEST\\n service-policy input POLICE-3G-IN\\n service-policy output SHAPE-3G-OUT\\n ipv4 address 1.1.1.1 255.255.255.254\\n encapsulation dot1q 99\\n!\\ninterface Bundle-Ether7\\n!\\ninterface Bundle-Ether7.70 l2transport\\n encapsulation dot1q 70\\n rewrite ingress tag pop 1 symmetric\\n!\\ninterface Bundle-Ether7.71 l2transport\\n encapsulation dot1q 71\\n rewrite ingress tag pop 1 symmetric\\n!\\ninterface Bundle-Ether10\\n!\\ninterface Bundle-Ether10.10\\n ipv4 address 192.168.32.2 255.255.255.0\\n encapsulation dot1q 10\\n!\\ninterface Bundle-Ether10.69 l2transport\\n encapsulation dot1q 69\\n rewrite ingress tag pop 1 symmetric\\n!\\ninterface Bundle-Ether10.99 l2transport\\n description VPLS_GORI_TV\\n encapsulation dot1q 80-1756\\n rewrite ingress tag push dot1q 99 symmetric\\n!\\ninterface Bundle-Ether24\\n!\\ninterface Bundle-Ether24.99\\n vrf OM\\n ipv4 address 192.168.99.22 255.255.255.0\\n encapsulation dot1q 99\\n!\\ninterface Bundle-Ether69\\n!\\ninterface Bundle-Ether69.69 l2transport\\n encapsulation dot1q 69\\n rewrite ingress tag pop 1 symmetric\\n!\\ninterface Loopback0\\n description ### GLOBAL ROUTER ID SID INDEX  4002 ###  \\n ipv4 address 10.101.0.2 255.255.255.255\\n!\\ninterface Loopback3\\n vrf LTEC\\n ipv4 address 10.3.0.2 255.255.255.255\\n!\\ninterface Loopback5\\n ipv4 address 10.101.5.2 255.255.255.255\\n!\\ninterface Loopback9\\n vrf OM\\n ipv4 address 10.9.0.2 255.255.255.255\\n!\\ninterface Loopback69\\n vrf INET\\n ipv4 address 1.0.0.2 255.255.255.255\\n!\\ninterface Loopback96\\n vrf INET\\n ipv4 address 1.0.0.22 255.255.255.255\\n!\\ninterface Loopback169\\n vrf INET\\n ipv4 address 1.0.0.222 255.255.255.255\\n!\\ninterface MgmtEth0/RP0/CPU0/0\\n vrf MGMT\\n ipv4 address 172.30.100.31 255.255.255.0\\n!\\ninterface GigabitEthernet0/0/0/4\\n cdp\\n!\\ninterface TenGigE0/0/0/0\\n bundle id 7 mode active\\n!\\ninterface TenGigE0/0/0/1\\n cdp\\n!\\ninterface TenGigE0/0/0/1.11 l2transport\\n encapsulation dot1q 11\\n!\\ninterface TenGigE0/0/0/1.12 l2transport\\n encapsulation dot1q 5 second-dot1q 12\\n!\\ninterface TenGigE0/0/0/1.13 l2transport\\n encapsulation dot1q 13\\n!\\ninterface TenGigE0/0/0/1.14 l2transport\\n encapsulation dot1q 14\\n!\\ninterface TenGigE0/0/0/1.15 l2transport\\n encapsulation dot1q 15\\n!\\ninterface TenGigE0/0/0/1.16 l2transport\\n encapsulation dot1q 16\\n!\\ninterface TenGigE0/0/0/1.17 l2transport\\n encapsulation dot1q 17\\n!\\ninterface TenGigE0/0/0/1.18 l2transport\\n encapsulation dot1q 18 second-dot1q 10\\n!\\ninterface TenGigE0/0/0/1.70 l2transport\\n encapsulation dot1q 70\\n rewrite ingress tag pop 1 symmetric\\n!\\ninterface TenGigE0/0/0/1.71 l2transport\\n encapsulation dot1q 71\\n rewrite ingress tag pop 1 symmetric\\n!\\ninterface TenGigE0/0/0/1.72 l2transport\\n encapsulation dot1q 72\\n rewrite ingress tag pop 1 symmetric\\n!\\ninterface TenGigE0/0/0/1.77 l2transport\\n encapsulation dot1q 77\\n rewrite ingress tag pop 1 symmetric\\n!\\ninterface TenGigE0/0/0/1.80 l2transport\\n encapsulation default\\n!\\ninterface TenGigE0/0/0/2\\n cdp\\n mtu 9216\\n service-policy input MARK_L3_IN\\n service-policy output CHILD_OUT\\n ipv4 address 192.168.11.2 255.255.255.0\\n load-interval 30\\n dampening\\n!\\ninterface TenGigE0/0/0/3\\n cdp\\n mtu 9216\\n ipv4 address 192.168.23.2 255.255.255.0\\n load-interval 30\\n!\\ninterface TenGigE0/0/0/5\\n cdp\\n mtu 9216\\n ipv4 address 192.168.22.2 255.255.255.0\\n carrier-delay up 5000 down 0\\n load-interval 30\\n!\\ninterface TenGigE0/0/0/5.69 l2transport\\n encapsulation dot1q 69\\n rewrite ingress tag pop 1 symmetric\\n!\\ninterface TenGigE0/0/0/6\\n shutdown\\n!\\ninterface TenGigE0/0/0/7\\n cdp\\n mtu 9216\\n ipv4 address 1.2.5.2 255.255.255.0\\n load-interval 30\\n!\\ninterface TenGigE0/0/0/7.321 l2transport\\n encapsulation dot1q 321\\n rewrite ingress tag pop 1 symmetric\\n mtu 1518\\n!\\ninterface TenGigE0/0/0/7.333\\n ipv4 address 71.0.0.33 255.255.255.0\\n encapsulation dot1q 333\\n!\\ninterface TenGigE0/0/0/7.1133 l2transport\\n encapsulation dot1q 1133\\n!\\ninterface TenGigE0/0/0/8\\n shutdown\\n!\\ninterface TenGigE0/0/0/9\\n shutdown\\n!\\ninterface TenGigE0/0/0/10\\n shutdown\\n!\\ninterface TenGigE0/0/0/11\\n shutdown\\n!\\ninterface TenGigE0/0/0/12\\n shutdown\\n!\\ninterface TenGigE0/0/0/13\\n shutdown\\n!\\ninterface TenGigE0/0/0/14\\n shutdown\\n!\\ninterface TenGigE0/0/0/15\\n shutdown\\n!\\ninterface TenGigE0/0/0/16\\n shutdown\\n!\\ninterface TenGigE0/0/0/17\\n shutdown\\n!\\ninterface TenGigE0/0/0/18\\n shutdown\\n!\\ninterface TenGigE0/0/0/19\\n shutdown\\n!\\ninterface TenGigE0/0/0/20\\n shutdown\\n!\\ninterface TenGigE0/0/0/21\\n shutdown\\n!\\ninterface TenGigE0/0/0/22\\n shutdown\\n!\\ninterface TenGigE0/0/0/23\\n shutdown\\n!\\ninterface TenGigE0/0/0/24\\n shutdown\\n!\\ninterface TenGigE0/0/0/25\\n shutdown\\n!\\ninterface TenGigE0/0/0/26\\n shutdown\\n!\\ninterface TenGigE0/0/0/27\\n shutdown\\n!\\ninterface TenGigE0/0/0/28\\n shutdown\\n!\\ninterface TenGigE0/0/0/29\\n shutdown\\n!\\ninterface TenGigE0/0/0/30\\n shutdown\\n!\\ninterface TenGigE0/0/0/31\\n shutdown\\n!\\ninterface BVI70\\n host-routing\\n ipv4 address 70.0.0.3 255.255.255.0\\n!\\ninterface BVI99\\n ipv4 address 192.168.99.2 255.255.255.0\\n!\\ninterface HundredGigE0/0/1/0\\n shutdown\\n!\\ninterface HundredGigE0/0/1/1\\n shutdown\\n!\\ninterface preconfigure GigabitEthernet0/0/0/6\\n shutdown\\n!\\ninterface preconfigure GigabitEthernet0/0/0/7\\n shutdown\\n!\\ninterface preconfigure GigabitEthernet0/0/0/10\\n shutdown\\n!\\ninterface preconfigure GigabitEthernet0/0/0/12\\n shutdown\\n!\\ninterface preconfigure GigabitEthernet0/0/0/13\\n shutdown\\n!\\ninterface preconfigure GigabitEthernet0/0/0/14\\n shutdown\\n!\\ninterface preconfigure GigabitEthernet0/0/0/15\\n shutdown\\n!\\ninterface preconfigure GigabitEthernet0/0/0/18\\n shutdown\\n!\\ninterface preconfigure TenGigE0/0/0/4\\n cdp\\n!\\ninterface preconfigure TwentyFiveGigE0/0/0/24\\n shutdown\\n!\\ninterface preconfigure TwentyFiveGigE0/0/0/25\\n shutdown\\n!\\ninterface preconfigure TwentyFiveGigE0/0/0/26\\n shutdown\\n!\\ninterface preconfigure TwentyFiveGigE0/0/0/27\\n shutdown\\n!\\ninterface preconfigure TwentyFiveGigE0/0/0/28\\n shutdown\\n!\\ninterface preconfigure TwentyFiveGigE0/0/0/29\\n shutdown\\n!\\ninterface preconfigure TwentyFiveGigE0/0/0/30\\n shutdown\\n!\\ninterface preconfigure TwentyFiveGigE0/0/0/31\\n shutdown\\n!\\n!\\nextcommunity-set rt VPNV4_LTE_X2_MY_AREA\\n  4100:8,\\n  5100:8\\nend-set\\n!\\nextcommunity-set opaque COLOR-100\\n  100\\nend-set\\n!\\ncommunity-set VPNV4_LTE_SUMMARY\\n  1111:6901,\\n  1111:6902\\nend-set\\n!\\ncommunity-set IPV4_PASS_COMMUNITY\\n  1000:1001,\\n  100:8,\\n  250:8\\nend-set\\n!\\ncommunity-set VPNV4_MUSTHAVE_ROUTES\\n  1111:1111\\nend-set\\n!\\ncommunity-set AGG_LOOPBACK_0_COMMUNITY\\n  10:10,\\n  100:8\\nend-set\\n!\\nroute-policy LP\\n  if destination in (10.9.0.3/32) then\\n    set local-preference 130\\n  else\\n    pass\\n  endif\\nend-policy\\n!\\nroute-policy PER\\n  set label-mode per-vrf\\nend-policy\\n!\\nroute-policy LP50\\n  set local-preference 100\\nend-policy\\n!\\nroute-policy COLOR-100\\n  if destination in (1.0.0.222/32) then\\n    pass\\n  else\\n    set extcommunity color COLOR-100\\n  endif\\nend-policy\\n!\\nroute-policy POLICY-IN\\n  pass\\nend-policy\\n!\\nroute-policy ADD_PATH_TO_IBGP\\n  set path-selection backup 1 install\\nend-policy\\n!\\nroute-policy LOWER-EVPN-LP-OUT\\n  set local-preference 25\\nend-policy\\n!\\nroute-policy VPNV4_FILTER_RING-5\\n  if destination in (10.3.0.0/16) then\\n    set next-hop self\\n  endif\\nend-policy\\n!\\nroute-policy NORMALIZE-EVPN-LP-OUT\\n  set local-preference 100\\nend-policy\\n!\\nroute-policy VPNV4-FILTER-FROM-CORE\\n  if community matches-any VPNV4_MUSTHAVE_ROUTES then\\n    pass\\n  endif\\n  if community matches-any VPNV4_LTE_SUMMARY then\\n    pass\\n  endif\\n  if extcommunity rt matches-any VPNV4_LTE_X2_MY_AREA then\\n    pass\\n  endif\\n  pass\\nend-policy\\n!\\nroute-policy AGG_LOOPBACK_0_COMMUNITY\\n  set community AGG_LOOPBACK_0_COMMUNITY\\nend-policy\\n!\\nroute-policy BGP_INGRESS_TRANSPORT_FILTER\\n  if community matches-any IPV4_PASS_COMMUNITY then\\n    pass\\n  else\\n    drop\\n  endif\\nend-policy\\n!\\nrouter static\\n vrf MGMT\\n  address-family ipv4 unicast\\n   0.0.0.0/0 172.30.100.254\\n  !\\n !\\n!\\nrouter isis CORE\\n set-overload-bit on-startup 360\\n is-type level-2-only\\n net 49.0000.0000.4002.00\\n nsr\\n nsf cisco\\n log adjacency changes\\n lsp-gen-interval maximum-wait 5000 initial-wait 50 secondary-wait 200\\n lsp-refresh-interval 65000\\n max-lsp-lifetime 65535\\n address-family ipv4 unicast\\n  metric-style wide\\n  advertise passive-only\\n  mpls traffic-eng level-2-only\\n  mpls traffic-eng router-id Loopback0\\n  spf-interval maximum-wait 5000 initial-wait 50 secondary-wait 200\\n  segment-routing mpls sr-prefer\\n  spf prefix-priority critical tag 5000\\n  spf prefix-priority high tag 1000\\n  mpls ldp auto-config\\n !\\n interface Loopback0\\n  passive\\n  circuit-type level-2-only\\n  address-family ipv4 unicast\\n   prefix-sid index 4002\\n  !\\n !\\n interface TenGigE0/0/0/2\\n  circuit-type level-2-only\\n  bfd minimum-interval 50\\n  bfd multiplier 3\\n  bfd fast-detect ipv4\\n  point-to-point\\n  lsp-interval 1\\n  hello-padding disable\\n  lsp fast-flood threshold 15 level 2\\n  link-down fast-detect\\n  address-family ipv4 unicast\\n   fast-reroute per-prefix\\n   fast-reroute per-prefix ti-lfa\\n   metric 10\\n  !\\n !\\n interface TenGigE0/0/0/7\\n  circuit-type level-2-only\\n  bfd minimum-interval 50\\n  bfd multiplier 3\\n  bfd fast-detect ipv4\\n  point-to-point\\n  lsp-interval 1\\n  hello-padding disable\\n  lsp fast-flood threshold 15 level 2\\n  link-down fast-detect\\n  address-family ipv4 unicast\\n   fast-reroute per-prefix\\n   fast-reroute per-prefix ti-lfa\\n   metric 10\\n  !\\n !\\n!\\nsnmp-server traps bgp cbgp2\\nsnmp-server traps bgp\\nrouter bgp 65000\\n nsr\\n bgp router-id 10.101.0.2\\n bgp graceful-restart\\n bgp log neighbor changes detail\\n ibgp policy out enforce-modifications\\n address-family ipv4 unicast\\n  allocate-label all\\n !\\n address-family vpnv4 unicast\\n !\\n address-family l2vpn evpn\\n !\\n session-group IBGP\\n  remote-as 65000\\n  bfd fast-detect\\n  bfd multiplier 3\\n  bfd minimum-interval 200\\n  dscp cs6\\n  update-source Loopback0\\n !\\n neighbor-group AGG\\n  use session-group IBGP\\n  shutdown\\n  address-family vpnv4 unicast\\n   route-reflector-client\\n  !\\n  address-family l2vpn evpn\\n   route-reflector-client\\n   route-policy NORMALIZE-EVPN-LP-OUT out\\n  !\\n !\\n neighbor-group CORE\\n  use session-group IBGP\\n  address-family ipv4 labeled-unicast\\n  !\\n  address-family vpnv4 unicast\\n  !\\n  address-family l2vpn evpn\\n   route-policy LOWER-EVPN-LP-OUT out\\n  !\\n !\\n neighbor 10.101.0.1\\n  use neighbor-group CORE\\n !\\n neighbor 10.101.0.3\\n  use neighbor-group AGG\\n !\\n neighbor 10.101.0.4\\n  use neighbor-group AGG\\n !\\n neighbor 10.101.0.5\\n  use neighbor-group AGG\\n !\\n neighbor 10.101.0.6\\n  use neighbor-group AGG\\n !\\n vrf INET\\n  rd auto\\n  address-family ipv4 unicast\\n   redistribute connected\\n  !\\n !\\n!\\nevpn\\n evi 17\\n  advertise-mac\\n   bvi-mac\\n  !\\n !\\n evi 5522\\n  bgp\\n   route-target 55:22\\n  !\\n !\\n evi 11105\\n  bgp\\n   route-target export 1:11105\\n   route-target import 65000:11105\\n  !\\n  control-word-disable\\n !\\n interface TenGigE0/0/0/1\\n  ethernet-segment\\n   identifier type 0 22.22.22.22.22.22.22.be.ef\\n   bgp route-target 2222.2222.2222\\n  !\\n !\\n!\\nsnmp-server traps hsrp\\nsnmp-server traps vrrp events\\nsnmp-server traps vpls all\\nsnmp-server traps vpls status\\nsnmp-server traps vpls full-clear\\nsnmp-server traps vpls full-raise\\nsnmp-server traps l2vpn all\\nsnmp-server traps l2vpn vc-up\\nsnmp-server traps l2vpn vc-down\\nl2vpn\\n flexible-xconnect-service vlan-aware evi 5511\\n  interface TenGigE0/0/0/1.16\\n  interface TenGigE0/0/0/1.17\\n  interface TenGigE0/0/0/1.18\\n !\\n flexible-xconnect-service vlan-unaware flex_test\\n  interface TenGigE0/0/0/1.11\\n  interface TenGigE0/0/0/1.12\\n  interface TenGigE0/0/0/1.13\\n  neighbor evpn evi 5522 target 222\\n !\\n flexible-xconnect-service vlan-unaware flex_test2\\n  interface TenGigE0/0/0/1.14\\n  interface TenGigE0/0/0/1.15\\n  neighbor evpn evi 5522 target 111\\n !\\n xconnect group Test-d\\n  p2p 70\\n   interface TenGigE0/0/0/1.70\\n   neighbor evpn evi 5522 target 1 source 2\\n   !\\n  !\\n  p2p 77\\n   interface TenGigE0/0/0/1.77\\n   neighbor evpn evi 77 target 1 source 2\\n   !\\n  !\\n  p2p 80\\n   interface TenGigE0/0/0/1.80\\n   neighbor evpn evi 80 target 1 source 2\\n   !\\n  !\\n !\\n xconnect group g_name\\n  p2p pw_name\\n   interface TenGigE0/0/0/7.321\\n   neighbor ipv4 10.101.0.1 pw-id 123\\n   !\\n  !\\n !\\n xconnect group 111-GRP\\n  p2p 111\\n   interface TenGigE0/0/0/1.71\\n   neighbor evpn evi 11105 target 2 source 2\\n   !\\n  !\\n !\\n xconnect group DG-test\\n !\\n!\\nsegment-routing\\n global-block 16000 23999\\n local-block 15000 15999\\n traffic-eng\\n  interface TenGigE0/0/0/2\\n  !\\n  interface TenGigE0/0/0/3\\n  !\\n  interface TenGigE0/0/0/7\\n  !\\n  interface TenGigE0/0/0/7.69\\n  !\\n  interface TenGigE0/0/0/7.169\\n   metric 10000\\n  !\\n  interface TenGigE0/0/0/7.196\\n   metric 10\\n  !\\n !\\n!\\nxml agent tty\\n!\\nnetconf agent tty\\n!\\nsnmp-server traps l2tun sessions\\nsnmp-server traps l2tun tunnel-up\\nsnmp-server traps l2tun tunnel-down\\nsnmp-server traps l2tun pseudowire status\\nsnmp-server traps pki\\nsnmp-server traps ipsec tunnel stop\\nsnmp-server traps ipsec tunnel start\\nsnmp-server traps isakmp tunnel stop\\nsnmp-server traps isakmp tunnel start\\ncrypto ca trustpoint Trustpool\\n crl optional\\n!\\nssh server rate-limit 600\\nsnmp-server traps fabric plane\\nsnmp-server traps fabric bundle link\\nsnmp-server traps fabric bundle state\\nlicense smart software-upgrade enable\\ntelnet vrf MGMT ipv4 server max-servers 100\\ntelnet vrf default ipv4 server max-servers 100\\nhw-module profile qos hqos-enable\\nhw-module profile netflow fpc-enable\\nhw-module vrrpscale enable\\nend\\n'"
      ]
     },
     "execution_count": 389,
     "metadata": {},
     "output_type": "execute_result"
    }
   ],
   "source": [
    "get_last_config(pe1['devicesDTO']['deviceName'])"
   ]
  },
  {
   "cell_type": "code",
   "execution_count": 18,
   "id": "ab5f2bcb-012e-47ec-8bfd-81834ab02f08",
   "metadata": {},
   "outputs": [],
   "source": [
    "pe1_config = get_last_config(pe1)\n",
    "pe2_config = get_last_config(pe2)"
   ]
  },
  {
   "cell_type": "markdown",
   "id": "23748458-e8e4-40f2-a532-2c561f9592c9",
   "metadata": {},
   "source": [
    "find all taken PW_IDs"
   ]
  },
  {
   "cell_type": "code",
   "execution_count": 23,
   "id": "7e11f068-0721-4de7-b6cc-7d307e4d0839",
   "metadata": {},
   "outputs": [
    {
     "ename": "TypeError",
     "evalue": "can only concatenate str (not \"int\") to str",
     "output_type": "error",
     "traceback": [
      "\u001b[1;31m---------------------------------------------------------------------------\u001b[0m",
      "\u001b[1;31mTypeError\u001b[0m                                 Traceback (most recent call last)",
      "\u001b[1;32m~\\AppData\\Local\\Temp/ipykernel_15380/1321077056.py\u001b[0m in \u001b[0;36m<module>\u001b[1;34m\u001b[0m\n\u001b[0;32m      1\u001b[0m \u001b[0mtaken_pw_id\u001b[0m \u001b[1;33m=\u001b[0m \u001b[0mset\u001b[0m\u001b[1;33m(\u001b[0m\u001b[0mre\u001b[0m\u001b[1;33m.\u001b[0m\u001b[0mfindall\u001b[0m\u001b[1;33m(\u001b[0m\u001b[1;34m'pw-id ([0-9]+)'\u001b[0m\u001b[1;33m,\u001b[0m \u001b[0mpe1_config\u001b[0m\u001b[1;33m)\u001b[0m \u001b[1;33m+\u001b[0m \u001b[0mre\u001b[0m\u001b[1;33m.\u001b[0m\u001b[0mfindall\u001b[0m\u001b[1;33m(\u001b[0m\u001b[1;34m'pw-id ([0-9]+)'\u001b[0m\u001b[1;33m,\u001b[0m \u001b[0mpe1_config\u001b[0m\u001b[1;33m)\u001b[0m\u001b[1;33m)\u001b[0m\u001b[1;33m\u001b[0m\u001b[1;33m\u001b[0m\u001b[0m\n\u001b[1;32m----> 2\u001b[1;33m \u001b[0mpw_id\u001b[0m \u001b[1;33m=\u001b[0m \u001b[0msorted\u001b[0m\u001b[1;33m(\u001b[0m\u001b[0mtaken_pw_id\u001b[0m\u001b[1;33m)\u001b[0m\u001b[1;33m[\u001b[0m\u001b[1;33m-\u001b[0m\u001b[1;36m1\u001b[0m\u001b[1;33m]\u001b[0m \u001b[1;33m+\u001b[0m \u001b[1;36m1\u001b[0m\u001b[1;33m\u001b[0m\u001b[1;33m\u001b[0m\u001b[0m\n\u001b[0m",
      "\u001b[1;31mTypeError\u001b[0m: can only concatenate str (not \"int\") to str"
     ]
    }
   ],
   "source": [
    "taken_pw_id = set(re.findall('pw-id ([0-9]+)', pe1_config) + re.findall('pw-id ([0-9]+)', pe1_config))\n",
    "pw_id = sorted(taken_pw_id)[-1] + 1"
   ]
  },
  {
   "cell_type": "code",
   "execution_count": 351,
   "id": "9f34cd09-0110-4fc3-b591-4cc7a4a8c3a3",
   "metadata": {
    "tags": []
   },
   "outputs": [
    {
     "name": "stdout",
     "output_type": "stream",
     "text": [
      "4.69 µs ± 9.86 ns per loop (mean ± std. dev. of 7 runs, 100000 loops each)\n"
     ]
    }
   ],
   "source": [
    "%%timeit\n",
    "loop_start = pe1_config.find('\\ninterface Loopback0')\n",
    "pe1_config[\n",
    "    pe1_config.find('ipv4 address ', loop_start) + len('ipv4 address '):\n",
    "    pe1_config.find(' 255.255.255.255', loop_start)\n",
    "]"
   ]
  },
  {
   "cell_type": "code",
   "execution_count": null,
   "id": "ea1bc802-2b26-4bfa-864c-75bfb7ed79b8",
   "metadata": {},
   "outputs": [
    {
     "name": "stdout",
     "output_type": "stream",
     "text": [
      "148 µs ± 2.06 µs per loop (mean ± std. dev. of 7 runs, 10000 loops each)\n"
     ]
    }
   ],
   "source": [
    "%%timeit\n",
    "re.search(\"interface Loopback0.*?ipv4 address ([0-9]+\\.[0-9]+\\.[0-9]+\\.[0-9]+) 255.255.255.255\", pe1_config, re.DOTALL).groups(1)"
   ]
  },
  {
   "cell_type": "code",
   "execution_count": 24,
   "id": "fdccf872-4db1-4d08-9ce2-9f2c5e010fda",
   "metadata": {},
   "outputs": [],
   "source": [
    "loop_start = pe1_config.find('\\ninterface Loopback0')\n",
    "pe1_loopback = pe1_config[\n",
    "    pe1_config.find('ipv4 address ', loop_start) + len('ipv4 address '):\n",
    "    pe1_config.find(' 255.255.255.255', loop_start)\n",
    "]\n",
    "loop_start = pe2_config.find('\\ninterface Loopback0')\n",
    "pe2_loopback = pe2_config[\n",
    "    pe2_config.find('ipv4 address ', loop_start) + len('ipv4 address '):\n",
    "    pe2_config.find(' 255.255.255.255', loop_start)\n",
    "]"
   ]
  },
  {
   "cell_type": "code",
   "execution_count": 26,
   "id": "bac9ded4-edcc-41a0-8e1f-59f89726f899",
   "metadata": {},
   "outputs": [
    {
     "data": {
      "text/plain": [
       "'10.101.0.1'"
      ]
     },
     "execution_count": 26,
     "metadata": {},
     "output_type": "execute_result"
    }
   ],
   "source": [
    "pe1_loopback"
   ]
  },
  {
   "cell_type": "code",
   "execution_count": 94,
   "id": "7882882b-9c08-4e13-ae1e-ea5887c182dc",
   "metadata": {},
   "outputs": [],
   "source": [
    "def subs_removal(pe_id,Vlans,ifName):\n",
    "    return {\n",
    "              \"cliTemplateCommand\" : {\n",
    "                \"options\" : {\n",
    "                  \"copyConfigToStartup\" : False\n",
    "                },\n",
    "                \"targetDevices\" : {\n",
    "                  \"targetDevice\" : [ {\n",
    "                    \"targetDeviceID\" : pe_id,\n",
    "                    \"variableValues\" : {\n",
    "                      \"variableValue\" : [ {\n",
    "                            \"name\": \"ifName\",\n",
    "                            \"value\": ifName\n",
    "                        }, {\n",
    "                            \"name\": \"shutParent\",\n",
    "                            \"value\": 1\n",
    "                        }, {\n",
    "                            \"name\": \"Vlans\",\n",
    "                            \"value\": Vlans\n",
    "                        }\n",
    "                        ]\n",
    "                    }\n",
    "                  }\n",
    "                  ]\n",
    "                },\n",
    "                \"templateName\" : template_name\n",
    "              }\n",
    "            }"
   ]
  },
  {
   "cell_type": "code",
   "execution_count": 105,
   "id": "ed051a4b-2bb8-44e7-ade9-b1489cb7ceba",
   "metadata": {},
   "outputs": [],
   "source": [
    "template_name = \"SUBs_REMOVAL\"\n",
    "data = subs_removal(pe1_id,\"10,20,30\",\"TenGigE0/0/0/10\")\n"
   ]
  },
  {
   "cell_type": "code",
   "execution_count": 106,
   "id": "4705d2cb-f111-44a8-b48d-c9c316c6d6d7",
   "metadata": {},
   "outputs": [],
   "source": [
    "r = requests.put(base_url + p2_push_url, json=data, verify=False)"
   ]
  },
  {
   "cell_type": "code",
   "execution_count": 104,
   "id": "ed9aed24-24af-4029-b5f7-749f6c2eefe5",
   "metadata": {},
   "outputs": [
    {
     "data": {
      "text/plain": [
       "{'mgmtResponse': {'@domain': 'ROOT-DOMAIN',\n",
       "  '@requestUrl': 'https://172.25.4.33/webacs/api/v4/op/cliTemplateConfiguration/deployTemplateThroughJob',\n",
       "  '@responseType': 'operation',\n",
       "  '@rootUrl': 'https://172.25.4.33/webacs/api/v4/op',\n",
       "  'cliTemplateCommandJobResult': [{'jobName': 'L3_SUBS_CREATION_03_58_06_826_AM_03_11_2001_32',\n",
       "    'message': 'An deploy job has been successfully created. '}]}}"
      ]
     },
     "execution_count": 104,
     "metadata": {},
     "output_type": "execute_result"
    }
   ],
   "source": [
    "r.json()"
   ]
  },
  {
   "cell_type": "code",
   "execution_count": 95,
   "id": "31de7fd7-3b8a-4b5a-9b82-eedba74e2a6c",
   "metadata": {},
   "outputs": [],
   "source": [
    "template_name = 'L3_SUBS_CREATION'"
   ]
  },
  {
   "cell_type": "code",
   "execution_count": 96,
   "id": "36c1dcd3-ab1a-4465-8925-fc06c09ae485",
   "metadata": {},
   "outputs": [],
   "source": [
    "data = create_subs(\n",
    "    pe1_id,\n",
    "    \"TenGigE0/0/0/10\",\n",
    "    \"test_desc\",\n",
    "    \"10,20,30\",\n",
    "    \"qwe,asd,zxc\",\n",
    "    \"1.1.1.1,2.2.2.2,3.3.3.3\",\n",
    "    \"255.255.255.0,255.255.255.128,255.255.255.224\"\n",
    ")"
   ]
  },
  {
   "cell_type": "code",
   "execution_count": 73,
   "id": "3741c48f-cf8e-4f61-80b7-0bbd47eee029",
   "metadata": {},
   "outputs": [],
   "source": [
    "def create_subs(pe_id, ifName, parentDescription, Vlans, VRFs, GWs, SMasks):\n",
    "    return {\n",
    "              \"cliTemplateCommand\" : {\n",
    "                \"options\" : {\n",
    "                  \"copyConfigToStartup\" : False\n",
    "                },\n",
    "                \"targetDevices\" : {\n",
    "                  \"targetDevice\" : [ {\n",
    "                    \"targetDeviceID\" : pe_id,\n",
    "                    \"variableValues\" : {\n",
    "                      \"variableValue\" : [ {\n",
    "                            \"name\": \"ifName\",\n",
    "                            \"value\": ifName\n",
    "                        }, {\n",
    "                            \"name\": \"parentDescription\",\n",
    "                            \"value\": parentDescription\n",
    "                        }, {\n",
    "                            \"name\": \"Vlans\",\n",
    "                            \"value\": Vlans\n",
    "                        }, {\n",
    "                            \"name\": \"VRFs\",\n",
    "                            \"value\": VRFs\n",
    "                        }, {\n",
    "                            \"name\": \"GWs\",\n",
    "                            \"value\": GWs\n",
    "                        }, {\n",
    "                            \"name\": \"SMasks\",\n",
    "                            \"value\": SMasks\n",
    "                        }\n",
    "                        ]\n",
    "                    }\n",
    "                  }\n",
    "                  ]\n",
    "                },\n",
    "                \"templateName\" : template_name\n",
    "              }\n",
    "            }"
   ]
  },
  {
   "cell_type": "code",
   "execution_count": null,
   "id": "5c0dcbdf-dc0a-4738-b791-da0782f63d93",
   "metadata": {},
   "outputs": [],
   "source": []
  },
  {
   "cell_type": "code",
   "execution_count": null,
   "id": "0f08a44b-51a1-452b-a9c2-8ab97ba61417",
   "metadata": {},
   "outputs": [],
   "source": []
  },
  {
   "cell_type": "code",
   "execution_count": 183,
   "id": "bfbd85ba-4eb3-42cd-8d93-9042d18e97c2",
   "metadata": {},
   "outputs": [],
   "source": [
    "def pw_push_payload(pe1_id, pe2_id, if1name, if2name, vlan1, vlan2, group_name, pw_name, pw_id, pe2_loopback, pe1_loopback, template_name):\n",
    "    return {\n",
    "              \"cliTemplateCommand\" : {\n",
    "                \"options\" : {\n",
    "                  \"copyConfigToStartup\" : False\n",
    "                },\n",
    "                \"targetDevices\" : {\n",
    "                  \"targetDevice\" : [ {\n",
    "                    \"targetDeviceID\" : pe1_id,\n",
    "                    \"variableValues\" : {\n",
    "                      \"variableValue\" : [ {\n",
    "                            \"name\": \"ifname\",\n",
    "                            \"value\": if1name\n",
    "                        }, {\n",
    "                            \"name\": \"vlan\",\n",
    "                            \"value\": vlan1\n",
    "                        }, {\n",
    "                            \"name\": \"group_name\",\n",
    "                            \"value\": group_name\n",
    "                        }, {\n",
    "                            \"name\": \"pw_name\",\n",
    "                            \"value\": pw_name\n",
    "                        }, {\n",
    "                            \"name\": \"peer_ip\",\n",
    "                            \"value\": pe2_loopback\n",
    "                        }, {\n",
    "                            \"name\": \"pw_id\",\n",
    "                            \"value\": pw_id\n",
    "                        }]\n",
    "                    }\n",
    "                  }, {\n",
    "                    \"targetDeviceID\" : pe2_id,\n",
    "                    \"variableValues\" : {\n",
    "                      \"variableValue\" : [ {\n",
    "                            \"name\": \"ifname\",\n",
    "                            \"value\": if2name\n",
    "                        }, {\n",
    "                            \"name\": \"vlan\",\n",
    "                            \"value\": vlan2\n",
    "                        }, {\n",
    "                            \"name\": \"group_name\",\n",
    "                            \"value\": group_name\n",
    "                        }, {\n",
    "                            \"name\": \"pw_name\",\n",
    "                            \"value\": pw_name\n",
    "                        }, {\n",
    "                            \"name\": \"peer_ip\",\n",
    "                            \"value\": pe1_loopback\n",
    "                        }, {\n",
    "                            \"name\": \"pw_id\",\n",
    "                            \"value\": pw_id\n",
    "                        }]\n",
    "                    }\n",
    "                  } ]\n",
    "                },\n",
    "                \"templateName\" : template_name\n",
    "              }\n",
    "            }"
   ]
  },
  {
   "cell_type": "code",
   "execution_count": 383,
   "id": "55283e7b-6a48-43ce-93dd-e65d51d74ef8",
   "metadata": {},
   "outputs": [
    {
     "data": {
      "text/plain": [
       "'10.101.0.2'"
      ]
     },
     "execution_count": 383,
     "metadata": {},
     "output_type": "execute_result"
    }
   ],
   "source": [
    "pe1_loopback"
   ]
  },
  {
   "cell_type": "code",
   "execution_count": 381,
   "id": "d566c1cd-9cbc-4503-a6f0-d9a85cf5520f",
   "metadata": {},
   "outputs": [
    {
     "data": {
      "text/plain": [
       "['TenGigE0/0/0/22']"
      ]
     },
     "execution_count": 381,
     "metadata": {},
     "output_type": "execute_result"
    }
   ],
   "source": [
    "re.findall('[a-zA-Z]+0/0/0/22', pe1_config)"
   ]
  },
  {
   "cell_type": "code",
   "execution_count": 370,
   "id": "4959d5f6-2700-43d1-94e5-5efa283eac37",
   "metadata": {},
   "outputs": [
    {
     "data": {
      "text/plain": [
       "[69, 169, 196, 321, 321, 333, 1133]"
      ]
     },
     "execution_count": 370,
     "metadata": {},
     "output_type": "execute_result"
    }
   ],
   "source": [
    "taken_vlan1 = sorted([int(i) for i in re.findall('TenGigE0/0/0/22\\.([0-9]+)', pe1_config)])\n",
    "vlan1 = taken_vlan1[-1] + 1\n",
    "taken_vlan2 = sorted([int(i) for i in re.findall('TenGigE0/0/0/7\\.([0-9]+)', pe2_config)])\n",
    "vlan1 = taken_vlan1[-1] + 1"
   ]
  },
  {
   "cell_type": "code",
   "execution_count": 190,
   "id": "3231726d-e7e3-4777-9c79-c9870800d904",
   "metadata": {},
   "outputs": [],
   "source": [
    "data = pw_push_payload(\n",
    "    pe1_id, pe2_id,\n",
    "    'Gi0/0/0/22', 'Te0/0/0/7',\n",
    "    123, 321, 'g_name', f'pw_name_{pw_id}', pw_id, \n",
    "    pe1_loopback, pe2_loopback,\n",
    "    template_name\n",
    ")"
   ]
  },
  {
   "cell_type": "code",
   "execution_count": 196,
   "id": "ab8e7e55-e4bb-4e24-9ad8-32e2002c9623",
   "metadata": {},
   "outputs": [
    {
     "data": {
      "text/plain": [
       "{'cliTemplateCommand': {'options': {'copyConfigToStartup': False},\n",
       "  'targetDevices': {'targetDevice': [{'targetDeviceID': '118091976',\n",
       "     'variableValues': {'variableValue': [{'name': 'ifname',\n",
       "        'value': 'Gi0/0/0/22'},\n",
       "       {'name': 'vlan', 'value': 123},\n",
       "       {'name': 'group_name', 'value': 'g_name'},\n",
       "       {'name': 'pw_name', 'value': 'pw_name'},\n",
       "       {'name': 'peer_ip', 'value': '10.101.0.2'},\n",
       "       {'name': 'pw_id', 'value': 123}]}},\n",
       "    {'targetDeviceID': '118091977',\n",
       "     'variableValues': {'variableValue': [{'name': 'ifname',\n",
       "        'value': 'Te0/0/0/7'},\n",
       "       {'name': 'vlan', 'value': 321},\n",
       "       {'name': 'group_name', 'value': 'g_name'},\n",
       "       {'name': 'pw_name', 'value': 'pw_name'},\n",
       "       {'name': 'peer_ip', 'value': '10.101.0.1'},\n",
       "       {'name': 'pw_id', 'value': 123}]}}]},\n",
       "  'templateName': 'l2vpn_xconnect_ldp'}}"
      ]
     },
     "execution_count": 196,
     "metadata": {},
     "output_type": "execute_result"
    }
   ],
   "source": [
    "data"
   ]
  },
  {
   "cell_type": "code",
   "execution_count": 20,
   "id": "955c93c9-4b4b-41e8-8dcd-f153247c1dd3",
   "metadata": {
    "tags": []
   },
   "outputs": [],
   "source": [
    "p2_push_url = '/webacs/api/v4/op/cliTemplateConfiguration/deployTemplateThroughJob.json'"
   ]
  },
  {
   "cell_type": "code",
   "execution_count": 197,
   "id": "b9b557f6-d1e5-479a-b76a-23e814566c04",
   "metadata": {},
   "outputs": [
    {
     "name": "stderr",
     "output_type": "stream",
     "text": [
      "C:\\Python310\\lib\\site-packages\\urllib3\\connectionpool.py:1013: InsecureRequestWarning: Unverified HTTPS request is being made to host '172.25.4.33'. Adding certificate verification is strongly advised. See: https://urllib3.readthedocs.io/en/1.26.x/advanced-usage.html#ssl-warnings\n",
      "  warnings.warn(\n"
     ]
    }
   ],
   "source": [
    "r = requests.put(base_url + p2_push_url, json=data, verify=False)"
   ]
  },
  {
   "cell_type": "code",
   "execution_count": null,
   "id": "4c4b7ee6-0085-488b-9e34-21b142378f93",
   "metadata": {},
   "outputs": [],
   "source": []
  }
 ],
 "metadata": {
  "kernelspec": {
   "display_name": "Python 3 (ipykernel)",
   "language": "python",
   "name": "python3"
  },
  "language_info": {
   "codemirror_mode": {
    "name": "ipython",
    "version": 3
   },
   "file_extension": ".py",
   "mimetype": "text/x-python",
   "name": "python",
   "nbconvert_exporter": "python",
   "pygments_lexer": "ipython3",
   "version": "3.10.0"
  }
 },
 "nbformat": 4,
 "nbformat_minor": 5
}
